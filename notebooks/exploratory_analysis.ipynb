{
 "cells": [
  {
   "cell_type": "markdown",
   "metadata": {},
   "source": [
    "# Description"
   ]
  },
  {
   "cell_type": "code",
   "execution_count": null,
   "metadata": {},
   "outputs": [],
   "source": []
  },
  {
   "cell_type": "markdown",
   "metadata": {},
   "source": [
    "# Importing Essential Libraries"
   ]
  },
  {
   "cell_type": "code",
   "execution_count": 31,
   "metadata": {},
   "outputs": [
    {
     "name": "stdout",
     "output_type": "stream",
     "text": [
      "Done\n"
     ]
    }
   ],
   "source": [
    "import pandas as pd\n",
    "import numpy as np\n",
    "import matplotlib.pyplot as plt\n",
    "import seaborn as sns\n",
    "\n",
    "pd.set_option('display.max_columns', 500)\n",
    "pd.set_option('display.width', 1000)\n",
    "\n",
    "print('Done')"
   ]
  },
  {
   "cell_type": "markdown",
   "metadata": {},
   "source": [
    "# Loading Dataset "
   ]
  },
  {
   "cell_type": "code",
   "execution_count": 32,
   "metadata": {},
   "outputs": [],
   "source": [
    "path = r'D:\\Data_Projects\\Password_Strength_Checker\\data\\raw\\data.csv'\n",
    "data = pd.read_csv(path, on_bad_lines='skip')"
   ]
  },
  {
   "cell_type": "markdown",
   "metadata": {},
   "source": [
    "# Data Exploration and Analysis"
   ]
  },
  {
   "cell_type": "code",
   "execution_count": 33,
   "metadata": {},
   "outputs": [
    {
     "data": {
      "text/html": [
       "<div>\n",
       "<style scoped>\n",
       "    .dataframe tbody tr th:only-of-type {\n",
       "        vertical-align: middle;\n",
       "    }\n",
       "\n",
       "    .dataframe tbody tr th {\n",
       "        vertical-align: top;\n",
       "    }\n",
       "\n",
       "    .dataframe thead th {\n",
       "        text-align: right;\n",
       "    }\n",
       "</style>\n",
       "<table border=\"1\" class=\"dataframe\">\n",
       "  <thead>\n",
       "    <tr style=\"text-align: right;\">\n",
       "      <th></th>\n",
       "      <th>count</th>\n",
       "      <th>mean</th>\n",
       "      <th>std</th>\n",
       "      <th>min</th>\n",
       "      <th>25%</th>\n",
       "      <th>50%</th>\n",
       "      <th>75%</th>\n",
       "      <th>max</th>\n",
       "    </tr>\n",
       "  </thead>\n",
       "  <tbody>\n",
       "    <tr>\n",
       "      <th>strength</th>\n",
       "      <td>669640.0</td>\n",
       "      <td>0.990196</td>\n",
       "      <td>0.507948</td>\n",
       "      <td>0.0</td>\n",
       "      <td>1.0</td>\n",
       "      <td>1.0</td>\n",
       "      <td>1.0</td>\n",
       "      <td>2.0</td>\n",
       "    </tr>\n",
       "  </tbody>\n",
       "</table>\n",
       "</div>"
      ],
      "text/plain": [
       "             count      mean       std  min  25%  50%  75%  max\n",
       "strength  669640.0  0.990196  0.507948  0.0  1.0  1.0  1.0  2.0"
      ]
     },
     "execution_count": 33,
     "metadata": {},
     "output_type": "execute_result"
    }
   ],
   "source": [
    "data.describe().T"
   ]
  },
  {
   "cell_type": "code",
   "execution_count": 34,
   "metadata": {},
   "outputs": [
    {
     "name": "stdout",
     "output_type": "stream",
     "text": [
      "<class 'pandas.core.frame.DataFrame'>\n",
      "RangeIndex: 669640 entries, 0 to 669639\n",
      "Data columns (total 2 columns):\n",
      " #   Column    Non-Null Count   Dtype \n",
      "---  ------    --------------   ----- \n",
      " 0   password  669639 non-null  object\n",
      " 1   strength  669640 non-null  int64 \n",
      "dtypes: int64(1), object(1)\n",
      "memory usage: 10.2+ MB\n"
     ]
    }
   ],
   "source": [
    "data.info()"
   ]
  },
  {
   "cell_type": "code",
   "execution_count": 35,
   "metadata": {},
   "outputs": [
    {
     "name": "stdout",
     "output_type": "stream",
     "text": [
      "There are 669640 rows and 2 columns in the dataset\n"
     ]
    }
   ],
   "source": [
    "print(f'There are {data.shape[0]} rows and {data.shape[1]} columns in the dataset')"
   ]
  },
  {
   "cell_type": "markdown",
   "metadata": {},
   "source": [
    "## Missing Values"
   ]
  },
  {
   "cell_type": "markdown",
   "metadata": {},
   "source": [
    "Let's look for rows with only one missing value."
   ]
  },
  {
   "cell_type": "code",
   "execution_count": 36,
   "metadata": {},
   "outputs": [
    {
     "data": {
      "text/plain": [
       "password    1\n",
       "strength    0\n",
       "dtype: int64"
      ]
     },
     "execution_count": 36,
     "metadata": {},
     "output_type": "execute_result"
    }
   ],
   "source": [
    "missing_values = data.isnull().sum()\n",
    "missing_values"
   ]
  },
  {
   "cell_type": "markdown",
   "metadata": {},
   "source": [
    "OK! I have only one missing value why?"
   ]
  },
  {
   "cell_type": "code",
   "execution_count": 37,
   "metadata": {},
   "outputs": [
    {
     "data": {
      "text/html": [
       "<div>\n",
       "<style scoped>\n",
       "    .dataframe tbody tr th:only-of-type {\n",
       "        vertical-align: middle;\n",
       "    }\n",
       "\n",
       "    .dataframe tbody tr th {\n",
       "        vertical-align: top;\n",
       "    }\n",
       "\n",
       "    .dataframe thead th {\n",
       "        text-align: right;\n",
       "    }\n",
       "</style>\n",
       "<table border=\"1\" class=\"dataframe\">\n",
       "  <thead>\n",
       "    <tr style=\"text-align: right;\">\n",
       "      <th></th>\n",
       "      <th>password</th>\n",
       "      <th>strength</th>\n",
       "    </tr>\n",
       "  </thead>\n",
       "  <tbody>\n",
       "    <tr>\n",
       "      <th>367579</th>\n",
       "      <td>NaN</td>\n",
       "      <td>0</td>\n",
       "    </tr>\n",
       "  </tbody>\n",
       "</table>\n",
       "</div>"
      ],
      "text/plain": [
       "       password  strength\n",
       "367579      NaN         0"
      ]
     },
     "execution_count": 37,
     "metadata": {},
     "output_type": "execute_result"
    }
   ],
   "source": [
    "data[data['password'].isnull()]"
   ]
  },
  {
   "cell_type": "markdown",
   "metadata": {},
   "source": [
    "I decided to **drop** the row with the missing value because it constitutes a very small fraction of the dataset. Retaining this row would not provide significant insights and could potentially introduce noise into the analysis. By removing this single row, we ensure the integrity and completeness of our dataset, which is crucial for accurate data analysis and modeling."
   ]
  },
  {
   "cell_type": "code",
   "execution_count": 38,
   "metadata": {},
   "outputs": [],
   "source": [
    "data.dropna(inplace=True)"
   ]
  },
  {
   "cell_type": "markdown",
   "metadata": {},
   "source": [
    "## EDA"
   ]
  },
  {
   "cell_type": "markdown",
   "metadata": {},
   "source": [
    "First of all, I would like to figure out and check distribution \n",
    "\n",
    "**0** means: the password’s strength is **weak**;\n",
    "\n",
    "**1** means: the password’s strength is **medium**;\n",
    "\n",
    "**2** means: the password’s strength is **strong**;"
   ]
  },
  {
   "cell_type": "code",
   "execution_count": 39,
   "metadata": {},
   "outputs": [
    {
     "data": {
      "text/plain": [
       "strength\n",
       "medium    496801\n",
       "weak       89701\n",
       "strong     83137\n",
       "Name: count, dtype: int64"
      ]
     },
     "execution_count": 39,
     "metadata": {},
     "output_type": "execute_result"
    }
   ],
   "source": [
    "data['strength'] = data['strength'].map({0: 'weak',\n",
    "                                         1: 'medium',\n",
    "                                         2: 'strong'})\n",
    "\n",
    "data['strength'].value_counts()"
   ]
  },
  {
   "cell_type": "code",
   "execution_count": 40,
   "metadata": {},
   "outputs": [
    {
     "data": {
      "image/png": "[encoded data removed]",
      "text/plain": [
       "<Figure size 1000x600 with 1 Axes>"
      ]
     },
     "metadata": {},
     "output_type": "display_data"
    }
   ],
   "source": [
    "plt.figure(figsize=(10, 6))\n",
    "sns.countplot(data['strength'])\n",
    "plt.title('Strength Distribution')\n",
    "plt.show()"
   ]
  },
  {
   "cell_type": "code",
   "execution_count": 41,
   "metadata": {},
   "outputs": [],
   "source": [
    "data['length'] = data['password'].apply(len)"
   ]
  },
  {
   "cell_type": "code",
   "execution_count": 48,
   "metadata": {},
   "outputs": [
    {
     "name": "stdout",
     "output_type": "stream",
     "text": [
      "The average Password length of medium passwords is 9.62\n",
      "The average Password length of strong passwords is 15.93\n",
      "The average Password length of weak passwords is 6.55\n"
     ]
    }
   ],
   "source": [
    "mean_length = data.groupby('strength')['length'].mean()\n",
    "\n",
    "for strength, mean_length in mean_length.items():\n",
    "    print(f'The average Password length of {strength} passwords is {mean_length:.2f}')"
   ]
  },
  {
   "cell_type": "code",
   "execution_count": 42,
   "metadata": {},
   "outputs": [],
   "source": [
    "def analyze_password(password):\n",
    "    has_number = any(char.isdigit() for char in password)\n",
    "    has_letter = any(char.isalpha() for char in password)\n",
    "    has_special = any(char for char in password if not char.isalnum())\n",
    "    return has_number, has_letter, has_special"
   ]
  },
  {
   "cell_type": "code",
   "execution_count": 43,
   "metadata": {},
   "outputs": [],
   "source": [
    "strength_analysis = {\"weak\" : {\"total\": 0, \"has_number\": 0, \"has_letter\": 0, \"has_special\": 0},\n",
    "                     \"medium\" : {\"total\": 0, \"has_number\": 0, \"has_letter\": 0, \"has_special\": 0},\n",
    "                     \"strong\" : {\"total\": 0, \"has_number\": 0, \"has_letter\": 0, \"has_special\": 0}}"
   ]
  },
  {
   "cell_type": "code",
   "execution_count": 46,
   "metadata": {},
   "outputs": [],
   "source": [
    "for _, row in data.iterrows():\n",
    "    password = str(row['password']).strip()\n",
    "    strength = row['strength']\n",
    "    \n",
    "    has_number, has_letter, has_special = analyze_password(password)\n",
    "    \n",
    "    if strength in strength_analysis:\n",
    "        strength_analysis[row['strength']]['total'] += 1\n",
    "        strength_analysis[row['strength']]['has_number'] += int(has_number)\n",
    "        strength_analysis[row['strength']]['has_letter'] += int(has_letter)\n",
    "        strength_analysis[row['strength']]['has_special'] += int(has_special)"
   ]
  },
  {
   "cell_type": "code",
   "execution_count": 47,
   "metadata": {},
   "outputs": [
    {
     "name": "stdout",
     "output_type": "stream",
     "text": [
      "\n",
      "Password Strength: Weak - Total: 89701\n",
      "  - Contains Numbers: 88299 (98.44%)\n",
      "  - Contains Letters: 89193 (99.43%)\n",
      "  - Contains Special Characters: 1458 (1.63%)\n",
      "\n",
      "Password Strength: Medium - Total: 496801\n",
      "  - Contains Numbers: 492939 (99.22%)\n",
      "  - Contains Letters: 495226 (99.68%)\n",
      "  - Contains Special Characters: 5909 (1.19%)\n",
      "\n",
      "Password Strength: Strong - Total: 83137\n",
      "  - Contains Numbers: 82989 (99.82%)\n",
      "  - Contains Letters: 83137 (100.00%)\n",
      "  - Contains Special Characters: 11310 (13.60%)\n"
     ]
    }
   ],
   "source": [
    "for strength, stats in strength_analysis.items():\n",
    "    total = stats[\"total\"]\n",
    "    print(f\"\\nPassword Strength: {strength.capitalize()} - Total: {total}\")\n",
    "    if total > 0:\n",
    "        print(f\"  - Contains Numbers: {stats['has_number']} ({(stats['has_number'] / total) * 100:.2f}%)\")\n",
    "        print(f\"  - Contains Letters: {stats['has_letter']} ({(stats['has_letter'] / total) * 100:.2f}%)\")\n",
    "        print(f\"  - Contains Special Characters: {stats['has_special']} ({(stats['has_special'] / total) * 100:.2f}%)\")"
   ]
  },
  {
   "cell_type": "code",
   "execution_count": null,
   "metadata": {},
   "outputs": [],
   "source": []
  }
 ],
 "metadata": {
  "kernelspec": {
   "display_name": "Pass",
   "language": "python",
   "name": "python3"
  },
  "language_info": {
   "codemirror_mode": {
    "name": "ipython",
    "version": 3
   },
   "file_extension": ".py",
   "mimetype": "text/x-python",
   "name": "python",
   "nbconvert_exporter": "python",
   "pygments_lexer": "ipython3",
   "version": "3.10.5"
  }
 },
 "nbformat": 4,
 "nbformat_minor": 2
}
